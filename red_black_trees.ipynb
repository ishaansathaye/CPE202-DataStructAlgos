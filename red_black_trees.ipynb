{
 "cells": [
  {
   "cell_type": "markdown",
   "metadata": {},
   "source": [
    "# Red-Black Trees"
   ]
  },
  {
   "cell_type": "markdown",
   "metadata": {},
   "source": [
    "**Notability Notes for Red-Black Trees**"
   ]
  },
  {
   "cell_type": "markdown",
   "metadata": {},
   "source": [
    "Binary Search Trees\n",
    "- Self-balancing BST\n",
    "    1) AVL\n",
    "    2) **Red-Black**"
   ]
  },
  {
   "cell_type": "markdown",
   "metadata": {},
   "source": [
    "## **Properties**\n"
   ]
  },
  {
   "cell_type": "markdown",
   "metadata": {},
   "source": [
    "1) Each node is colored either red or black\n",
    "2) Every path from root to a leaf encounters the same number of black nodes\n",
    "3) *Any child of a red node must be a black node*\n",
    "    - No two red nodes in a \"row\"\n",
    "    - Can be two black nodes in a \"row\"\n",
    "\n"
   ]
  },
  {
   "cell_type": "markdown",
   "metadata": {},
   "source": [
    "### Operations\n"
   ]
  },
  {
   "cell_type": "markdown",
   "metadata": {},
   "source": [
    "- All of these have guaranteed $O(log n)$ performance - **(even in the worst, average, and best case)**\n",
    "    - insert\n",
    "    - search\n",
    "    - remove"
   ]
  },
  {
   "cell_type": "markdown",
   "metadata": {},
   "source": [
    "### Insertion - how to maintain the properties"
   ]
  },
  {
   "cell_type": "markdown",
   "metadata": {},
   "source": [
    "1. **Always insert a red node**\n",
    "2.  **Perform re-balance** (Notability)\n",
    "    - *Recursively*\n",
    "3. **Color root black**"
   ]
  }
 ],
 "metadata": {
  "language_info": {
   "name": "python"
  },
  "orig_nbformat": 4
 },
 "nbformat": 4,
 "nbformat_minor": 2
}
