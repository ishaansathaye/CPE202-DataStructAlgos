{
 "cells": [
  {
   "cell_type": "markdown",
   "metadata": {},
   "source": [
    "# Red-Black Trees"
   ]
  },
  {
   "cell_type": "markdown",
   "metadata": {},
   "source": [
    "**Notability Notes for Red-Black Trees**"
   ]
  },
  {
   "cell_type": "markdown",
   "metadata": {},
   "source": [
    "Binary Search Trees\n",
    "- Self-balancing BST\n",
    "    1) AVL\n",
    "    2) **Red-Black**"
   ]
  },
  {
   "cell_type": "markdown",
   "metadata": {},
   "source": [
    "## **Properties**\n"
   ]
  },
  {
   "cell_type": "markdown",
   "metadata": {},
   "source": [
    "1) Each node is colored either red or black\n",
    "2) Every path from root to a leaf encounters the same number of black nodes\n",
    "3) *Any child of a red node must be a black node*\n",
    "    - No two red nodes in a \"row\"\n",
    "    - Can be two black nodes in a \"row\"\n",
    "\n"
   ]
  },
  {
   "cell_type": "markdown",
   "metadata": {},
   "source": [
    "### **Operations**"
   ]
  },
  {
   "cell_type": "markdown",
   "metadata": {},
   "source": [
    "- All of these have guaranteed $O(log n)$ performance - **(even in the worst, average, and best case)**\n",
    "    - insert\n",
    "    - search\n",
    "        - **Code same as BST**\n",
    "    - remove\n",
    "        - **Remove same as BST and then re-balance**"
   ]
  },
  {
   "cell_type": "markdown",
   "metadata": {},
   "source": [
    "### Insertion - how to maintain the properties"
   ]
  },
  {
   "cell_type": "markdown",
   "metadata": {},
   "source": [
    "1. **Always insert a red node**\n",
    "2.  **Perform re-balance** (Notability)\n",
    "    - *Recursively*\n",
    "3. **Color root black**"
   ]
  },
  {
   "cell_type": "markdown",
   "metadata": {},
   "source": [
    "## **Partial Implementation**"
   ]
  },
  {
   "cell_type": "code",
   "execution_count": 2,
   "metadata": {},
   "outputs": [],
   "source": [
    "class Node:\n",
    "    def __init__(self, color, left, val, right):\n",
    "        self.color = color\n",
    "        self.left = left\n",
    "        self.val = val\n",
    "        self.right = self.right\n",
    "\n",
    "#A RedBlackTree is one of None, or Node(color, redblacktree, value, RedBlackTree)\n",
    "\n",
    "#a color is one of \"R\" or \"B\"\n",
    "\n",
    "class Red_Black_Tree:\n",
    "    def __init(self):\n",
    "        self.root = None\n",
    "        self.size = 0\n",
    "    \n",
    "    def insert(self, value):\n",
    "        if self.root == None:\n",
    "            self.root = Node(\"B\", None, value, None)\n",
    "        else:\n",
    "            self.insert_helper(self.root, value)\n",
    "            self.root.color = 'B'\n",
    "\n",
    "    #RedBlackTree, value -> None\n",
    "    #Insert the value into the tree\n",
    "    def insert_helper(self, node, value):\n",
    "        if value < node.val:\n",
    "            if node.left == None:    \n",
    "                node.left = Node('R', None, value, None)\n",
    "            else:\n",
    "                self.insert_helper(node.left, value)\n",
    "                self.rebalance(node)\n",
    "        elif node.val < value:\n",
    "            if node.right == None:\n",
    "                node.right = Node('R', None, value, None)\n",
    "            else:\n",
    "                self.insert_helper(node.right, value)\n",
    "                self.rebalance(node)\n",
    "        else:\n",
    "            #Duplicate key, what should we do???\n",
    "            pass\n",
    "    \n",
    "    #RedBlackTree -> None\n",
    "    #rebalance a tree with a chain of two red nodes below a black root\n",
    "    def rebalance(self, node):\n",
    "        if node.color == 'B':\n",
    "            # Scenario 1\n",
    "            if (node.left != None and node.left.color == 'R' and node.left.left != None and node.left.left.color == 'R'):\n",
    "                # References to the subtree\n",
    "                a = node.left.left.left\n",
    "                b = node.left.left.right\n",
    "                c = node.left.right\n",
    "                d = node.right\n",
    "\n",
    "                #Rearrange nodes\n",
    "                node.right = node.left\n",
    "                node.left = node.left.left\n",
    "\n",
    "                #Adjust the values\n",
    "                temp = node.value\n",
    "                node.value = node.right.value\n",
    "                node.right.value = temp\n",
    "\n",
    "                #Recolor the nodes\n",
    "                node.color = 'R'\n",
    "                node.left.color = 'B'\n",
    "                node.right.color = 'B'\n",
    "\n",
    "                #Reattach the subtrees\n",
    "                node.left.left = a\n",
    "                node.left.right = b\n",
    "                node.right.left = c\n",
    "                node.right.right = d\n",
    "\n",
    "            #Scenario 2\n",
    "            elif (node.left != None and node.left.color == 'R' and node.left.right != None and node.left.right.color == 'R'):\n",
    "                #...\n",
    "                pass\n",
    "\n",
    "            #... 2 more scenarios\n"
   ]
  }
 ],
 "metadata": {
  "interpreter": {
   "hash": "b30b16c83ff9e1edf05d1389201b91a87d2eda582773d1d418f36c288e735fdc"
  },
  "kernelspec": {
   "display_name": "Python 3.10.0 64-bit ('3.10.0')",
   "language": "python",
   "name": "python3"
  },
  "language_info": {
   "codemirror_mode": {
    "name": "ipython",
    "version": 3
   },
   "file_extension": ".py",
   "mimetype": "text/x-python",
   "name": "python",
   "nbconvert_exporter": "python",
   "pygments_lexer": "ipython3",
   "version": "3.10.0"
  },
  "orig_nbformat": 4
 },
 "nbformat": 4,
 "nbformat_minor": 2
}
