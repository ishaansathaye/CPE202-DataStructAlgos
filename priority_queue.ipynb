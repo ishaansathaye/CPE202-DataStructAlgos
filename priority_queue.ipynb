{
 "cells": [
  {
   "cell_type": "markdown",
   "metadata": {},
   "source": [
    "# Priority Queue"
   ]
  },
  {
   "cell_type": "markdown",
   "metadata": {},
   "source": [
    "Like a queue but each item has priority associated with it"
   ]
  },
  {
   "cell_type": "markdown",
   "metadata": {},
   "source": [
    "**Required Operations:**\n",
    "\n",
    "Enqueue\n",
    "- add an element to PQ\n",
    "\n",
    "Dequeue\n",
    "- remove an element with highest priority"
   ]
  },
  {
   "cell_type": "markdown",
   "metadata": {},
   "source": [
    "Use Cases\n",
    "- Computer puts task in a PQ to make sure some tasks happen before others"
   ]
  },
  {
   "cell_type": "markdown",
   "metadata": {},
   "source": [
    "---\n",
    "## Implementations"
   ]
  },
  {
   "cell_type": "markdown",
   "metadata": {},
   "source": [
    "### Unsorted Array\n",
    "- Enqueue: $O(1)$\n",
    "- Dequeue: $O(n)$"
   ]
  },
  {
   "cell_type": "markdown",
   "metadata": {},
   "source": [
    "### Multiple Arrays: one for each priority level\n",
    "- Works for small finite set of priorities"
   ]
  },
  {
   "cell_type": "markdown",
   "metadata": {},
   "source": [
    "### Sorted Array\n",
    "- Enqueue: $O(n)$\n",
    "- Dequeue: $O1)$\n",
    "    - already sorted by their priority"
   ]
  },
  {
   "cell_type": "markdown",
   "metadata": {},
   "source": [
    "### Ordered List"
   ]
  },
  {
   "cell_type": "markdown",
   "metadata": {},
   "source": [
    "### Binary Search Tree\n",
    "- Enqueue: $O(log n)$\n",
    "- Dequeue: $O(log n)$"
   ]
  },
  {
   "cell_type": "markdown",
   "metadata": {},
   "source": [
    "---\n",
    "## Binary Heap Implementation"
   ]
  },
  {
   "cell_type": "markdown",
   "metadata": {},
   "source": [
    "**Also a tree, but not a BST** \n",
    "\n",
    "**Complete Binary Tree**\n",
    "- All levels are filled except (perhaps) the lowest level (lowest level filled from left to right)"
   ]
  },
  {
   "cell_type": "markdown",
   "metadata": {},
   "source": [
    "**Priority of any vertex (node) is equal to or higher than than that of its children**"
   ]
  },
  {
   "cell_type": "markdown",
   "metadata": {},
   "source": [
    "# Notability Notes for Binary Heap and PQ"
   ]
  }
 ],
 "metadata": {
  "language_info": {
   "name": "python"
  },
  "orig_nbformat": 4
 },
 "nbformat": 4,
 "nbformat_minor": 2
}
