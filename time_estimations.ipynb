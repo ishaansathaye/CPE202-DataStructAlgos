{
 "cells": [
  {
   "cell_type": "markdown",
   "metadata": {},
   "source": [
    "---\n",
    "# Time Estimations"
   ]
  },
  {
   "cell_type": "markdown",
   "metadata": {},
   "source": [
    "*O(n^2) --> Time (# steps) similar to constant (c) * n^2:*\n",
    "\n",
    "$T = c\\cdot f(n)$"
   ]
  },
  {
   "cell_type": "markdown",
   "metadata": {},
   "source": [
    "---\n",
    "**Ex. An algorithm makes 0.5 seconds to process 3000 (problem size). How long does the algo take to process 24000 (problem size)?**"
   ]
  },
  {
   "cell_type": "markdown",
   "metadata": {},
   "source": [
    "- **If the algo is $O(n^2)$:**\n",
    "    $$T (Time) = c \\cdot n^2$$\n",
    "    $$c \\cdot n^2 = T$$\n",
    "    - *Equation 1:* $c \\cdot 3000^2 = 0.5(s)$\n",
    "    - *Equation 2:* $c \\cdot 24000^2 = t (s)$\n",
    "    - *Divide simultaneous equations (second equation by first equation):*\n",
    "        $$\\frac{c*24000^2}{c*3000^2} = \\frac{t}{0.5}$$\n",
    "        $$t = \\frac{2400}{3000} \\cdot 0.5$$\n",
    "        $$t = 32 (s)$$\n"
   ]
  },
  {
   "cell_type": "markdown",
   "metadata": {},
   "source": [
    "- **If algo is $O(2^n)$:**\n",
    "    $$T = 0.5 = c\\cdot 2^{3000}$$\n",
    "    $$t = c\\cdot 2^{24000}$$\n",
    "    - *Divide second by first:*\n",
    "        $$\\frac{t}{0.5} = \\frac{c\\cdot 2^{24000}}{c \\cdot 2^{3000}}$$\n",
    "        $$t = (c\\cdot 2^{24000-3000}) \\cdot 0.5$$\n",
    "        $$t = 2.1e-10^{631}(s)$$"
   ]
  },
  {
   "cell_type": "markdown",
   "metadata": {},
   "source": [
    "- **If algo is $O(log n)$:** *(log base does not matter)*\n",
    "    $$T = 0.5 - c\\cdot log(3000)$$\n",
    "    $$t = c\\cdot log(24000)$$\n",
    "    $$t = \\frac{log(24000)}{log(3000)} \\cdot 0.5$$\n",
    "    $$t = 0.63 (s)$$\n"
   ]
  },
  {
   "cell_type": "markdown",
   "metadata": {},
   "source": [
    "- **If algo is $O(1)$:**\n",
    "    - $t = 0.5 (s)$"
   ]
  },
  {
   "cell_type": "markdown",
   "metadata": {},
   "source": [
    "---\n",
    "**Ex. An algorithm makes 0.5 seconds to process 3000 (problem size). How many items can be processed in 60 seconds?**"
   ]
  },
  {
   "cell_type": "markdown",
   "metadata": {},
   "source": [
    "- **If algo is $O(n^3)$**\n",
    "    $$0.5 = c \\cdot 3000^3$$\n",
    "    $$60 = c \\cdot n^3$$\n",
    "    - *Divide both equations:*$$\\frac{n^3}{3000^3} = \\frac{60}{0.5}$$\n",
    "    $$n = \\sqrt[3]{(3000^3 \\cdot \\frac{60}{0.5})}$$"
   ]
  },
  {
   "cell_type": "markdown",
   "metadata": {},
   "source": [
    "- **If algo is $O(log n)$**:\n",
    "    $$T = c \\cdot log(3000) = 0.5$$\n",
    "    $$c \\cdot log(n) = 60$$\n",
    "    $$2^{(log_2(n))} = 2^{(log_2(3000) \\cdot\\frac{60}{0.5})}$$\n",
    "    $$n = 1.7e-10^{417}$$"
   ]
  },
  {
   "cell_type": "markdown",
   "metadata": {},
   "source": [
    "- **If algo is $O(2^n)$:**\n",
    "    $$T = c \\cdot 2^{3000} = 0.5$$\n",
    "    $$c \\cdot 2^n = 60$$\n",
    "    $$2^n = 2^{3000} \\cdot \\frac{60}{0.5}$$\n",
    "    - *Take log of both sides:*\n",
    "    $$n = log_2(2^{3000} \\cdot 120)$$\n",
    "    $$n = log_2(2^{3000}) + log_2(120)$$\n",
    "    $$n = 3000 + 7$$\n",
    "    $$n = 3007$$\n"
   ]
  }
 ],
 "metadata": {
  "interpreter": {
   "hash": "b30b16c83ff9e1edf05d1389201b91a87d2eda582773d1d418f36c288e735fdc"
  },
  "kernelspec": {
   "display_name": "Python 3.10.0 64-bit ('3.10.0': pyenv)",
   "language": "python",
   "name": "python3"
  },
  "language_info": {
   "codemirror_mode": {
    "name": "ipython",
    "version": 3
   },
   "file_extension": ".py",
   "mimetype": "text/x-python",
   "name": "python",
   "nbconvert_exporter": "python",
   "pygments_lexer": "ipython3",
   "version": "3.10.0"
  },
  "orig_nbformat": 4
 },
 "nbformat": 4,
 "nbformat_minor": 2
}
