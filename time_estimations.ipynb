{
 "cells": [
  {
   "cell_type": "markdown",
   "metadata": {},
   "source": [
    "---\n",
    "# Time Estimations"
   ]
  },
  {
   "cell_type": "markdown",
   "metadata": {},
   "source": [
    "O(n^2) --> Time (# steps) similar to constant (c) * n^2\n",
    "\n",
    "$$T = c\\cdot f(n)$$"
   ]
  },
  {
   "cell_type": "markdown",
   "metadata": {},
   "source": [
    "**Ex. An algorithm makes 0.5 seconds to process 3000 (problem size). How long does the algo take to process 24000 (problem size)?**"
   ]
  },
  {
   "cell_type": "markdown",
   "metadata": {},
   "source": [
    "- If the algo is $O(n^2)$:\n",
    "    - $$T (Time) = c * n^2$$\n",
    "    - c * n^2 = T\n",
    "    - c * 3000^2 = 0.5 seconds\n",
    "    - c * 24000^2 = t seconds (simultaneous equations)\n",
    "    - Divide second equation by first equation:\n",
    "        - (c*24000^2) / (c*3000^2) = t/0.5\n",
    "        - t = (24000/3000) * 0.5\n",
    "    - **t = 32 seconds**\n"
   ]
  },
  {
   "cell_type": "markdown",
   "metadata": {},
   "source": [
    "- If algo is $O(2^n)$:\n",
    "    - T = 0.5 = c*2^3000\n",
    "    - t = c*2^24000\n",
    "    - Divide second by first:\n",
    "        - t/0.5 = (c*2^24000) / (c*2^3000)\n",
    "        $$t = (c*2^24000-3000) * 0.5$$\n",
    "    - $2.1E10^631 seconds$"
   ]
  },
  {
   "cell_type": "markdown",
   "metadata": {},
   "source": [
    "- If algo is O(log n): *(log base does not matter)*\n",
    "    - T = 0.5 - c*log(3000)\n",
    "    - t = c*log(24000)\n",
    "    $$t = \\frac{log(24000)}{log(3000)} \\cdot 0.5$$\n",
    "    - t = 0.63 seconds\n"
   ]
  },
  {
   "cell_type": "markdown",
   "metadata": {},
   "source": [
    "- If algo is O(1):\n",
    "    - t = 0.5 seconds"
   ]
  },
  {
   "cell_type": "markdown",
   "metadata": {},
   "source": [
    "**Ex. An algorithm makes 0.5 seconds to process 3000 (problem size). How many items can be processed in 60 seconds?**"
   ]
  },
  {
   "cell_type": "markdown",
   "metadata": {},
   "source": [
    "- If algo is $O(n^3)$\n",
    "    $$0.5 = c \\cdot 3000^3 \\\\\n",
    "    60 = c \\cdot n^3 \\\\$$\n",
    "    - Divide both equations: $$\\frac{n^3}{3000^3} = \\frac{60}{0.5}$$\n",
    "    - n = cube root of(3000^3 * 60/0.5)\n",
    "    \n",
    "    \n",
    "\n",
    "\n",
    "    "
   ]
  },
  {
   "cell_type": "markdown",
   "metadata": {},
   "source": [
    "- If algo is $O(log n)$:\n",
    "    $$T = c \\cdot log(3000) = 0.5 \\\\\n",
    "    c \\cdot log (n) = 60\\\\\n",
    "    2^(log_2(n)) = 2^(log_2(3000) \\cdot 60/0.5) \\\\\n",
    "    n = 1.7x10^414$$"
   ]
  },
  {
   "cell_type": "markdown",
   "metadata": {},
   "source": [
    "- If algo is $O(2^n)$:\n",
    "    $$T = c \\cdot 2^3000 = 0.5 \\\\\n",
    "    c \\cdot 2^n) = 60\\\\\n",
    "    2^n = 2^3000 \\cdot \\frac{60}{0.5}$$\n",
    "    - Take log of both sides:\n",
    "    $$n = log_2(2^(3000) \\cdot 120)\\\\\n",
    "    n = log_2(2^3000) + log_2(120) \\\\\n",
    "    n = 3000 + 7 = 3007\n"
   ]
  }
 ],
 "metadata": {
  "language_info": {
   "name": "python"
  },
  "orig_nbformat": 4
 },
 "nbformat": 4,
 "nbformat_minor": 2
}
