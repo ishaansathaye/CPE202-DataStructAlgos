{
 "cells": [
  {
   "cell_type": "markdown",
   "metadata": {},
   "source": [
    "# ADT Stack"
   ]
  },
  {
   "cell_type": "markdown",
   "metadata": {},
   "source": [
    "Stack Abstract Data Type (ADT)"
   ]
  },
  {
   "cell_type": "markdown",
   "metadata": {},
   "source": [
    "Operations\n",
    "- push - adding item to the top of the stack *required*\n",
    "- pop - removing an item from top of the stack #required*\n",
    "- peek - look at (retrieve) item from teh top **without removing**\n",
    "- size - return the number of items\n",
    "- **LIFO structure - \"Last in First Out\"**"
   ]
  },
  {
   "cell_type": "markdown",
   "metadata": {},
   "source": [
    "Example of Stack\n",
    "- Stacking items on top of each other\n",
    "- Runtime stack that stores the memory of the function calls\n",
    "    - Each time function call is returned --> it is popped out of the stack"
   ]
  },
  {
   "cell_type": "markdown",
   "metadata": {},
   "source": [
    "---\n",
    "## Implementing Stack Data Structure:"
   ]
  },
  {
   "cell_type": "markdown",
   "metadata": {},
   "source": [
    "### Implementation #1: Array-Based"
   ]
  },
  {
   "cell_type": "markdown",
   "metadata": {},
   "source": [
    "Array - **contiguous** chunk of memory of **fixed size**\n",
    "- Examples\n",
    "    - Java: ```int[] nums = new int[5];```\n",
    "    - C: ```int nums[5];```\n",
    "- Contiguous - means that it can go to the specified memory location and add element there\n",
    "- Adding an element outside the memory will throw an exception (Java) or just overwrite any memory outside that array (C)\n"
   ]
  },
  {
   "cell_type": "markdown",
   "metadata": {},
   "source": [
    "Python Fake Array:\n",
    "- Adding an element to outside the memory of a list will, create another list, copy all the elements into this other list, and then add the element to the list "
   ]
  },
  {
   "cell_type": "code",
   "execution_count": 3,
   "metadata": {},
   "outputs": [
    {
     "data": {
      "text/plain": [
       "[None, None, None, None, None]"
      ]
     },
     "execution_count": 3,
     "metadata": {},
     "output_type": "execute_result"
    }
   ],
   "source": [
    "nums = [None]*5 #\"array\" with only 5 None values (not really fixed)\n",
    "nums"
   ]
  },
  {
   "cell_type": "markdown",
   "metadata": {},
   "source": [
    "### Implementation #2: Link-Based"
   ]
  },
  {
   "cell_type": "markdown",
   "metadata": {},
   "source": [
    "#### Using the Node Class\n",
    "- Create nodes for each value that are linked by"
   ]
  },
  {
   "cell_type": "code",
   "execution_count": null,
   "metadata": {},
   "outputs": [],
   "source": [
    "class Node:\n",
    "    def __init__(self, data):\n",
    "        self.data = data\n",
    "        self.next = None\n"
   ]
  },
  {
   "cell_type": "markdown",
   "metadata": {},
   "source": [
    "#### Stack with Linked Nodes\n",
    "- Empty stack -> capacity=5, top=None\n",
    "- Pushing 20\n",
    "    - Stack -> top=node\n",
    "    - Creates Node -> data=20, next=None\n",
    "- Pushing 30\n",
    "    - Stack -> top=new_node\n",
    "    - Create new Node -> data=30, next=prev_node"
   ]
  }
 ],
 "metadata": {
  "interpreter": {
   "hash": "b30b16c83ff9e1edf05d1389201b91a87d2eda582773d1d418f36c288e735fdc"
  },
  "kernelspec": {
   "display_name": "Python 3.10.0 64-bit ('3.10.0': pyenv)",
   "language": "python",
   "name": "python3"
  },
  "language_info": {
   "codemirror_mode": {
    "name": "ipython",
    "version": 3
   },
   "file_extension": ".py",
   "mimetype": "text/x-python",
   "name": "python",
   "nbconvert_exporter": "python",
   "pygments_lexer": "ipython3",
   "version": "3.10.0"
  },
  "orig_nbformat": 4
 },
 "nbformat": 4,
 "nbformat_minor": 2
}
