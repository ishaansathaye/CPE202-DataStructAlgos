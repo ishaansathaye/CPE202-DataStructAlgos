{
 "cells": [
  {
   "cell_type": "markdown",
   "metadata": {},
   "source": [
    "# ADT List"
   ]
  },
  {
   "cell_type": "markdown",
   "metadata": {},
   "source": [
    "### Operations\n",
    "- add\n",
    "    - to end (append)\n",
    "    - to beginning\n",
    "    - to middle\n",
    "- remove\n",
    "    - from end/beginning/middle\n",
    "- slice\n",
    "- sort\n",
    "- set (overwrite)\n",
    "- get\n",
    "- reverse\n",
    "- search"
   ]
  },
  {
   "cell_type": "markdown",
   "metadata": {},
   "source": [
    "### Implementations\n",
    "- Array Based\n",
    "    - Operations\n",
    "        - add (beginning) --> O(n)\n",
    "            - shifting everything over to add to the beginning\n",
    "- Link Based\n",
    "    - Operations\n",
    "        - add (beginning) --> O(1)"
   ]
  },
  {
   "cell_type": "markdown",
   "metadata": {},
   "source": []
  }
 ],
 "metadata": {
  "language_info": {
   "name": "python"
  },
  "orig_nbformat": 4
 },
 "nbformat": 4,
 "nbformat_minor": 2
}
