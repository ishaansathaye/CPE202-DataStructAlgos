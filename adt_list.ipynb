{
 "cells": [
  {
   "cell_type": "markdown",
   "metadata": {},
   "source": [
    "# ADT List"
   ]
  },
  {
   "cell_type": "markdown",
   "metadata": {},
   "source": [
    "### Operations\n",
    "- add\n",
    "    - to end (append)\n",
    "    - to beginning\n",
    "    - to middle\n",
    "- remove\n",
    "    - from end/beginning/middle\n",
    "- slice\n",
    "- sort\n",
    "- set (overwrite)\n",
    "- get\n",
    "- reverse\n",
    "- search"
   ]
  },
  {
   "cell_type": "markdown",
   "metadata": {},
   "source": [
    "### Implementations"
   ]
  },
  {
   "cell_type": "markdown",
   "metadata": {},
   "source": [
    "#### Array Based\n",
    "- Operations\n",
    "    - **add**\n",
    "        - add *(beginning)* --> *O(n)*\n",
    "            - shifting everything over to add to the beginning\n",
    "        - add *(end)* --> *O(1) or O(n)*\n",
    "            - O(1): add to the end of array\n",
    "            - **O(n): if adding an element to a full array**\n",
    "                - need to copy all the elements and allocate a new memory location for a new array\n",
    "        - add *(middle)* --> *O(n)*\n",
    "            - shift all elements to the next spot in order to insert\n",
    "    - **remove**\n",
    "        - remove *(beginning)* --> *O(n)*\n",
    "            - shift all elements down a spot to remove an item\n",
    "        - remove *(end)* --> *O(1)*\n",
    "            - remove the last item of the array\n",
    "        - remove *(middle)* --> *O(n)*\n",
    "            - shift all the elements down a spot\n",
    "    - **get (middle/average)** --> *O(1)*\n",
    "        - go to the middle of the array\n",
    "    - **set (middle/average)** --> *O(1)*\n",
    "    - **search (average, index method)** --> *O(n)*\n",
    "        - need to traverse the array"
   ]
  },
  {
   "cell_type": "markdown",
   "metadata": {},
   "source": [
    "#### Link Based\n",
    "- Operations\n",
    "    - **add**\n",
    "        - add *(beginning)* --> *O(1)*\n",
    "            - keep track of the head\n",
    "        - add *(end)* --> *O(1)*\n",
    "            - keep track of the tail and set its next reference to new node\n",
    "            - make the tail the new \n",
    "        - add *(middle)* --> *O(n)*\n",
    "            - create a new node and set its next to refer the to the next position/set its previous's next to the new node\n",
    "    - **remove**\n",
    "        - remove *(beginning)* --> *O(1)*\n",
    "            - set the next of the head node to become the head node\n",
    "        - remove *(end)* --> *O(n)*\n",
    "            - need to iterate through each node to get the tail's previous node\n",
    "            - set the tail's previous node to become the tail\n",
    "            - **Doubly Linked List: O(1)**\n",
    "        - remove *(middle)* --> *O(n)*\n",
    "            - set the nodes around the removed node to each other\n",
    "    - **get (middle/average)** --> *O(n)\n",
    "        - need to traverse linked list\n",
    "    - **set (middle/average)** --> O(n)\n",
    "    - **search (average, index method)** --> *O(n)*"
   ]
  },
  {
   "cell_type": "markdown",
   "metadata": {},
   "source": [
    "## Singly Linked List"
   ]
  },
  {
   "cell_type": "markdown",
   "metadata": {},
   "source": [
    "Nodes that have only a next pointer"
   ]
  },
  {
   "cell_type": "markdown",
   "metadata": {},
   "source": [
    "## Doubly Linked List"
   ]
  },
  {
   "cell_type": "markdown",
   "metadata": {},
   "source": [
    "Nodes that have a previous and next pointer"
   ]
  }
 ],
 "metadata": {
  "language_info": {
   "name": "python"
  },
  "orig_nbformat": 4
 },
 "nbformat": 4,
 "nbformat_minor": 2
}
