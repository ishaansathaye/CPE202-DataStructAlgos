{
 "cells": [
  {
   "cell_type": "markdown",
   "metadata": {},
   "source": [
    "# Sorting Algorithms"
   ]
  },
  {
   "cell_type": "markdown",
   "metadata": {},
   "source": [
    "---"
   ]
  },
  {
   "cell_type": "markdown",
   "metadata": {},
   "source": [
    "Two main categories of sorting algorithms\n",
    "- **O(n^2)**\n",
    "    - Simple\n",
    "    - Examples\n",
    "        - *Selection Sort*\n",
    "        - *Insertion Sort*\n",
    "- **O(n log n)** - best we can do \n",
    "    - More complex\n",
    "    - Examples\n",
    "        - *Merge Sort*\n",
    "        - *Quick Sort*\n",
    "        - *Heap Sort*"
   ]
  },
  {
   "cell_type": "markdown",
   "metadata": {},
   "source": [
    "---"
   ]
  },
  {
   "cell_type": "markdown",
   "metadata": {},
   "source": [
    "## Selection Sort - **$O(n^2)$**"
   ]
  },
  {
   "cell_type": "markdown",
   "metadata": {},
   "source": [
    "Find smallest item at each pass"
   ]
  },
  {
   "cell_type": "markdown",
   "metadata": {},
   "source": [
    "- ```[18, 12, 5, 32, 16]```\n",
    "    - Start at the beginning and find the smallest value and swap it\n",
    "    - Each time this is done is called a pass\n",
    "    - **Passes**\n",
    "        - Pass 1: ```[5, 12, 18, 32, 16]```\n",
    "        - Pass 2: ```[5, 12, 18, 32, 16]```\n",
    "        - Pass 3: ```[5, 12, 16, 32, 18]```\n",
    "        - Pass 4: ```[5, 12, 16, 18, 32]```"
   ]
  },
  {
   "cell_type": "markdown",
   "metadata": {},
   "source": [
    "Comparisons\n",
    "- Pass 1: 4\n",
    "- Pass 2: 3\n",
    "- Pass 3: 2\n",
    "- Pass 2: 1\n",
    "- Total: 10 comparisons\n"
   ]
  },
  {
   "cell_type": "markdown",
   "metadata": {},
   "source": [
    "Size n comparisons:\n",
    "- Pass 1: n-1\n",
    "- Pass 2: n-2\n",
    "- Pass 3: n-3 \n",
    "- ...\n",
    "- 1\n",
    "- Total: n(n-1) / 2\n",
    "- = (1/2)(n^2)\n",
    "- **$O(n^2)$**\n"
   ]
  },
  {
   "cell_type": "markdown",
   "metadata": {},
   "source": [
    "Time Complexities:\n",
    "- Comparisons - Overall performance $O(n^2)$\n",
    "    - Worst: n(n-1) / 2\n",
    "    - Best: \"\"\n",
    "    - Average: \"'\n",
    "- Swaps: Overall performance $O(n^2)$\n",
    "    - Worst: n-1\n",
    "    - Best: 0\n",
    "    - Average: < n-1"
   ]
  },
  {
   "cell_type": "markdown",
   "metadata": {},
   "source": [
    "Space Complexity\n",
    "- $O(1)$"
   ]
  },
  {
   "cell_type": "code",
   "execution_count": 1,
   "metadata": {},
   "outputs": [],
   "source": [
    "def selection_sort():\n",
    "    for i in range(len(list)-1):\n",
    "        min_spot = 1\n",
    "        for j in range(i+1, len(list)):\n",
    "            if list[j] < list[min_spot]:\n",
    "                min_spot = j\n",
    "            if i != min_spot:\n",
    "                swap(list, i, min_spot)\n",
    "\n",
    "def swap(list, i, j):\n",
    "    temp = list[i]\n",
    "    list[i] = list[j]\n",
    "    list[j] = temp"
   ]
  },
  {
   "cell_type": "markdown",
   "metadata": {},
   "source": [
    "---"
   ]
  },
  {
   "cell_type": "markdown",
   "metadata": {},
   "source": [
    "## Insertion Sort - **$O(n^2)$**"
   ]
  },
  {
   "cell_type": "markdown",
   "metadata": {},
   "source": [
    "Takes the list and divides into 2 parts: sorted list and unsorted list"
   ]
  },
  {
   "cell_type": "markdown",
   "metadata": {},
   "source": [
    "Each pass insert number\n",
    "- Shift numbers in spots and then insert the number that is being compared to\n",
    "- Steps:\n",
    "    - [20, 18, 15, 32, 17]\n",
    "    - Pass 1: [18, 20, 15, 32, 17]\n",
    "    - Pass 2: [15, 18, 20, 32, 17]\n",
    "        - For next pass no need to check and insert since already greater\n",
    "    - Pass 3: [15, 18, 20, 32, 17]\n",
    "    - Pass 4: [15, 17, 18, 20 32]\n",
    "\n"
   ]
  },
  {
   "cell_type": "markdown",
   "metadata": {},
   "source": [
    "**Number of Passes: (n-1)**"
   ]
  },
  {
   "cell_type": "markdown",
   "metadata": {},
   "source": [
    "**Time Complexity Analysis **\n",
    "- Comparisons\n",
    "    - Worst: n(n-1) / 2\n",
    "        - 1 + 2 + 3 + 4 = 10 --> 5(5-1) / 2\n",
    "    - Best: (n-1)\n",
    "    - Average: n(n-1) / 4\n",
    "        - Inserting in the middle so do half the number of comparisons\n",
    "- Shifts\n",
    "    - Worst: n(n-1) / 2\n",
    "    - Best: 0\n",
    "    - Average: n(n-1) / 4\n",
    "        - Doing half the number of swaps\n",
    "- Overall\n",
    "    - Worst: O(n^2)\n",
    "    - Best: O(n)\n",
    "    - Average: O(n^2)"
   ]
  },
  {
   "cell_type": "markdown",
   "metadata": {},
   "source": [
    "---"
   ]
  },
  {
   "cell_type": "markdown",
   "metadata": {},
   "source": [
    "## Merge Sort - **$O(nlogn)$**"
   ]
  },
  {
   "cell_type": "markdown",
   "metadata": {},
   "source": [
    "Made in 1945\n",
    "\n",
    "Divide and conquer\n",
    "\n",
    "Python's ```sort()``` uses modified version of merge sort: ```Tim sort```"
   ]
  },
  {
   "cell_type": "markdown",
   "metadata": {},
   "source": [
    "**General Algorithm (Recursive algorithm):**\n",
    "1) Merge sort on the left half\n",
    "2) Merge Sort the right half\n",
    "3) Merge the halves "
   ]
  },
  {
   "cell_type": "code",
   "execution_count": 4,
   "metadata": {},
   "outputs": [],
   "source": [
    "def merge_sort(list1):\n",
    "    if len(list1) > 1:\n",
    "        mid = len(list1) // 2\n",
    "        left_half = list1[:mid]\n",
    "        merge_sort(left_half)\n",
    "        right_half = list1[mid:]\n",
    "        merge_sort(right_half)\n",
    "        return merge(list1, left_half, right_half)\n",
    "    return list1\n",
    "    # uses selection sort for lists smaller or equal to 20\n",
    "    if len(list1) > 20:\n",
    "        mid = len(list1) // 2\n",
    "        left_half = list1[:mid]\n",
    "        merge_sort(left_half)\n",
    "        right_half = list1[mid:] #slicing makes copies (space complexity)\n",
    "        merge_sort(right_half)\n",
    "        return merge(list1, left_half, right_half)\n",
    "    else:\n",
    "        selection_sort(list1) #\n",
    "\n",
    "def merge(list1, left_half, right_half):\n",
    "    i = j = k = 0\n",
    "    while i < len(left_half) and j < len(right_half):\n",
    "        if left_half[i] <  right_half[i]:\n",
    "            list1[k] = left_half[i]\n",
    "            i += 1\n",
    "        else:\n",
    "            list1[k] = right_half[j]\n",
    "        k += 1\n",
    "    #transfer rest of the items in left to sorted list\n",
    "    while i < len(left_half):\n",
    "        list1[k] = left_half[i]\n",
    "        i += 1\n",
    "        k += 1\n",
    "    #transfer rest of the items in right to sorted list\n",
    "    while j < len(right_half):\n",
    "        list1[k] = right_half[j]\n",
    "        j += 1\n",
    "        k += 1\n",
    "    return list1"
   ]
  },
  {
   "cell_type": "markdown",
   "metadata": {},
   "source": [
    "Time Complexity\n",
    "- $O(n \\cdot logn)$"
   ]
  },
  {
   "cell_type": "markdown",
   "metadata": {},
   "source": [
    "Space Complexity\n",
    "- $O(n)$"
   ]
  }
 ],
 "metadata": {
  "interpreter": {
   "hash": "b30b16c83ff9e1edf05d1389201b91a87d2eda582773d1d418f36c288e735fdc"
  },
  "kernelspec": {
   "display_name": "Python 3.10.0 64-bit ('3.10.0': pyenv)",
   "language": "python",
   "name": "python3"
  },
  "language_info": {
   "codemirror_mode": {
    "name": "ipython",
    "version": 3
   },
   "file_extension": ".py",
   "mimetype": "text/x-python",
   "name": "python",
   "nbconvert_exporter": "python",
   "pygments_lexer": "ipython3",
   "version": "3.10.0"
  },
  "orig_nbformat": 4
 },
 "nbformat": 4,
 "nbformat_minor": 2
}
