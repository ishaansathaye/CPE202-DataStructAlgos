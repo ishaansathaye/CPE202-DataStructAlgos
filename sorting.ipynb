{
 "cells": [
  {
   "cell_type": "markdown",
   "metadata": {},
   "source": [
    "# Sorting Algorithms"
   ]
  },
  {
   "cell_type": "markdown",
   "metadata": {},
   "source": [
    "---"
   ]
  },
  {
   "cell_type": "markdown",
   "metadata": {},
   "source": [
    "Two main categories of sorting algorithms\n",
    "- **O(n^2)**\n",
    "    - Simple\n",
    "    - Examples\n",
    "        - *Selection Sort*\n",
    "        - *Insertion Sort*\n",
    "- **O(n log n)** - best we can do \n",
    "    - More complex\n",
    "    - Examples\n",
    "        - *Merge Sort*\n",
    "        - *Quick Sort*\n",
    "        - *Heap Sort*"
   ]
  },
  {
   "cell_type": "markdown",
   "metadata": {},
   "source": [
    "---"
   ]
  },
  {
   "cell_type": "markdown",
   "metadata": {},
   "source": [
    "## Selection Sort"
   ]
  },
  {
   "cell_type": "markdown",
   "metadata": {},
   "source": [
    "- Find smallest item at each pass\n",
    "- ```[18, 12, 5, 32, 16]```\n",
    "    - Start at the beginning and find the smallest value and swap it\n",
    "    - Each time this is done is called a pass\n",
    "    - **Passes**\n",
    "        - Pass 1: ```[5, 12, 18, 32, 16]```\n",
    "        - Pass 2: ```[5, 12, 18, 32, 16]```\n",
    "        - Pass 3: ```[5, 12, 16, 32, 18]```\n",
    "        - Pass 4: ```[5, 12, 16, 18, 32]```"
   ]
  }
 ],
 "metadata": {
  "language_info": {
   "name": "python"
  },
  "orig_nbformat": 4
 },
 "nbformat": 4,
 "nbformat_minor": 2
}
