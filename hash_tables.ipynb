{
 "cells": [
  {
   "cell_type": "markdown",
   "metadata": {},
   "source": [
    "# Hash Tables"
   ]
  },
  {
   "cell_type": "markdown",
   "metadata": {},
   "source": [
    "**Notability Notes for Hash Tables**"
   ]
  },
  {
   "cell_type": "markdown",
   "metadata": {},
   "source": [
    "Operations\n",
    "- Insert: $O(1)$\n",
    "- Retrieval: $O(1)$\n",
    "- Removal: $O(1)$"
   ]
  },
  {
   "cell_type": "markdown",
   "metadata": {},
   "source": [
    "Key - uniquely identifies the object/value\n",
    "- could be separate from or part of data/value"
   ]
  },
  {
   "cell_type": "markdown",
   "metadata": {},
   "source": [
    "Sometimes the array is called the Hash Table"
   ]
  },
  {
   "cell_type": "markdown",
   "metadata": {},
   "source": [
    "### Hash Function"
   ]
  },
  {
   "cell_type": "markdown",
   "metadata": {},
   "source": [
    "1) Takes a string\n",
    "2) Adds ASCII values of each character\n",
    "3) Sum MODs with Table Size --> retrieves proper index which is withing array\n"
   ]
  },
  {
   "cell_type": "markdown",
   "metadata": {},
   "source": [
    "---"
   ]
  },
  {
   "cell_type": "markdown",
   "metadata": {},
   "source": [
    "## **Collision Handling or Collision Resolution Strategies**"
   ]
  },
  {
   "cell_type": "markdown",
   "metadata": {},
   "source": [
    "Two different keys point to the same key (generate the same int from hash function)\n",
    "\n",
    "Collisions are usually unavoidable\n",
    "\n",
    "Perfect Hash Function -> there are no collisions"
   ]
  },
  {
   "cell_type": "markdown",
   "metadata": {},
   "source": [
    "### **Separate Chaining:**"
   ]
  },
  {
   "cell_type": "markdown",
   "metadata": {},
   "source": [
    "1) *Create a linked list of values at that particular index*\n",
    "    - Could be another data structure (Binary Search Tree, Hash Table)\n",
    "2) Suggested Load Factor Lambda <= 1\n",
    "    - **Load Factor**\n",
    "        - **lambda = (# of items) / table size**\n",
    "        - Becomes the average length of chains\n",
    "3) Shortcomings --> Node Structure Required"
   ]
  },
  {
   "cell_type": "markdown",
   "metadata": {},
   "source": [
    "### **Open Addressing**"
   ]
  },
  {
   "cell_type": "markdown",
   "metadata": {},
   "source": [
    "Find another spot:\n",
    "- **(key + f(# of collisions at that spot))**\n",
    "    - (key + f(i))"
   ]
  },
  {
   "cell_type": "markdown",
   "metadata": {},
   "source": [
    "#### *Linear Probing*\n",
    "\n",
    "- Look at the next spot\n",
    "\n",
    "- $f(i) = i$\n",
    "    - The funciton equal the number of collisions\n",
    "\n",
    "- **Suffers from Primary Clustering**\n",
    "    - Higher probability of adding to cluster of values that looking for a spot open far from the cluster\n",
    "    - Cluster tends to grow and get bigger\n",
    "    - Performance becomes poor\n",
    "    - *Quadratic Probing aims to fix this*\n",
    "\n",
    "- **Normal removal not possible**\n",
    "\n",
    "- **Load Factor must be <= 1**\n",
    "    - **Load factor should be <= 0.7**\n",
    "\n",
    "- **Rehasing** --> if lambda gets too big\n",
    "    - If Hash Table becomes full --> create a new table with twice the size\n",
    "    - Need to create a new hash for the items since the table size has changed\n",
    "        - **Rehash** the key\n",
    "    - Expensive $O(n)$ function"
   ]
  },
  {
   "cell_type": "markdown",
   "metadata": {},
   "source": [
    "#### *Quadratic Probing*\n",
    "\n",
    "- $f(i) = i^2$\n",
    "- Try: from original has of the key\n",
    "    - 1 away\n",
    "    - 4 away\n",
    "    - 9 away\n",
    "    - 16 away\n",
    "    - 25 away\n",
    "- Wrap around to beginning if exceeds table size\n",
    "- Reduces Clustering\n",
    "- **Load Factor must be <= 0.5 to guarantee a spot can be found**\n",
    "    - Probing a table size that is not a prime number results in probing less than 50% of the spots\n",
    "    - **Probing table size that is a prime number results in probing 50% of the table**\n",
    "        - **This means that the table size must be prime**"
   ]
  },
  {
   "cell_type": "markdown",
   "metadata": {},
   "source": []
  }
 ],
 "metadata": {
  "language_info": {
   "name": "python"
  },
  "orig_nbformat": 4
 },
 "nbformat": 4,
 "nbformat_minor": 2
}
