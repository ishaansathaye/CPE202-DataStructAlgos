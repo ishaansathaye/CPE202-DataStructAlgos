{
 "cells": [
  {
   "cell_type": "markdown",
   "metadata": {},
   "source": [
    "# ADT Queue"
   ]
  },
  {
   "cell_type": "markdown",
   "metadata": {},
   "source": [
    "### FILO Data Structure (**First in Last Out**)"
   ]
  },
  {
   "cell_type": "markdown",
   "metadata": {},
   "source": [
    "### Operations\n",
    "- enqueue (get in line) **required**\n",
    "- dequeue (get served, get out of line) **required**\n",
    "- peek (see what is next line)\n",
    "- size (return the number of items in queue)"
   ]
  },
  {
   "cell_type": "markdown",
   "metadata": {},
   "source": [
    "---\n",
    "## Queue Implementations"
   ]
  },
  {
   "cell_type": "markdown",
   "metadata": {},
   "source": [
    "### Implementation #1: Array-Based"
   ]
  },
  {
   "cell_type": "markdown",
   "metadata": {},
   "source": [
    "Operation Time Complexities:\n",
    "- Enqueue: O(1)\n",
    "- Dequeue\n",
    "    - O(n): Doing pop operation and shifting all elements in the array down \n",
    "        - *without keeping track of front and back*\n",
    "    - O(1): Better implementation of circular-array based"
   ]
  },
  {
   "cell_type": "markdown",
   "metadata": {},
   "source": [
    "Implementing Circular Array-Based Queue in Lab 3"
   ]
  },
  {
   "cell_type": "markdown",
   "metadata": {},
   "source": [
    "### Implementation #2: Link-Based"
   ]
  },
  {
   "cell_type": "markdown",
   "metadata": {},
   "source": [
    "Creating a Queue Object:\n",
    "- Keep track of **front** and **back**\n",
    "- Example:\n",
    "    - Create three nodes that are linked together\n",
    "    - Front is the first value pushed\n",
    "    - Back is the last value that is pushed\n",
    "    - **Enqueue -> create new node, link to back value, and set the back to this new node**\n",
    "    - **Dequeue -> Return the front node data, set the front the prev front's next node**"
   ]
  },
  {
   "cell_type": "markdown",
   "metadata": {},
   "source": [
    "Time Complexity:\n",
    "- Enqueue -> O(1)\n",
    "- Dequeue -> O(1) or O(n)\n",
    "    - O(1) --> if the front is at the \"front position\" and the back is at the \"back position\"\n",
    "    - O(n) --> if the front is at the \"back position\" and the back is at the \"front position\"\n",
    "        - In ordered to pop the front element --> need to go through each node to set the next front node"
   ]
  },
  {
   "cell_type": "code",
   "execution_count": null,
   "metadata": {},
   "outputs": [],
   "source": [
    "q = Queue(5)\n",
    "q.enqueue(10)\n",
    "q.enqueue(40)\n",
    "q.enqueue(25)\n",
    "q.enqueue(99)\n"
   ]
  }
 ],
 "metadata": {
  "language_info": {
   "name": "python"
  },
  "orig_nbformat": 4
 },
 "nbformat": 4,
 "nbformat_minor": 2
}
