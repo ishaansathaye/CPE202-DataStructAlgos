{
 "cells": [
  {
   "cell_type": "markdown",
   "metadata": {},
   "source": [
    "# Binary Tree and General Tree Data Structure"
   ]
  },
  {
   "cell_type": "markdown",
   "metadata": {},
   "source": [
    "## General Notes\n",
    "- **Root Node**: top entity\n",
    "- **Leaves**: nodes that have no children\n",
    "- Nodes are also referred to as parents and child"
   ]
  },
  {
   "cell_type": "markdown",
   "metadata": {},
   "source": [
    "## Binary Tree\n",
    "- **Each parent has max of two children**\n",
    "- **Parent has a left child and right child**\n",
    "- There are also left and right subtrees in the binary tree"
   ]
  },
  {
   "cell_type": "markdown",
   "metadata": {},
   "source": [
    "- A *binary tree* is a tree in which each vertex has at most two children\n",
    "- Terminology: root, parent, left child, right child, subtree"
   ]
  },
  {
   "cell_type": "markdown",
   "metadata": {},
   "source": [
    "---\n",
    "## Binary Search Tree\n",
    "- **Everything that is left of the root node --> less than the root node**\n",
    "- **Everything that is right of the root node --> greater than the root node**\n",
    "- Same relationship applies to all the other subtrees"
   ]
  },
  {
   "cell_type": "markdown",
   "metadata": {},
   "source": [
    "Use-case: used to store items in memory\n",
    "- Allow for fast lookup, insertion, and deletion\n",
    "- Keep their keys in sorted order so that lookup and other operation can use the principle of binary search\n",
    "    - **Key: attribute or combination of attributes that uniquely identify an object**"
   ]
  },
  {
   "cell_type": "markdown",
   "metadata": {},
   "source": [
    "### **Tree Traversals**\n",
    "- Way to go through and \"process\" each node in a tree\n",
    "- Example\n",
    "    - Zipping a file directory into 1 file (.zip)"
   ]
  },
  {
   "cell_type": "markdown",
   "metadata": {},
   "source": [
    "#### Pre-Order Traversal - Recursive\n",
    "1) Process the root\n",
    "2) Process the left subtree\n",
    "    - using a pre-order traversal\n",
    "3) Process the right subtree"
   ]
  },
  {
   "cell_type": "markdown",
   "metadata": {},
   "source": [
    "#### In Order Traversal - Recursive\n",
    "1) Process the left subtree\n",
    "2) Process the root\n",
    "3) Process the right subtree"
   ]
  },
  {
   "cell_type": "markdown",
   "metadata": {},
   "source": [
    "#### Post Order Traversal - Recursive\n",
    "1) Process the left subtree\n",
    "2) Process the right subtree\n",
    "3) Process the root"
   ]
  },
  {
   "cell_type": "markdown",
   "metadata": {},
   "source": [
    "#### Level Order Traversal - Not Recursive\n",
    "- Go level by level and add nodes\n",
    "- Use a queue\n",
    "1. Enqueue the root\n",
    "2. ```while queue is not empty```\n",
    "    - Dequeue node\n",
    "    - Process node\n",
    "    - Enqueue node's child"
   ]
  },
  {
   "cell_type": "markdown",
   "metadata": {},
   "source": [
    "#### Tree Height\n",
    "- With root node: height = 0\n",
    "- **O(n) algorithm**\n",
    "    - need to visit all nodes"
   ]
  },
  {
   "cell_type": "markdown",
   "metadata": {},
   "source": [
    "Printing all keys in the binary tree:"
   ]
  },
  {
   "cell_type": "code",
   "execution_count": 1,
   "metadata": {},
   "outputs": [],
   "source": [
    "def print_tree(self):\n",
    "    self.print_tree_helper(self.root)\n",
    "\n",
    "def print_tree_helper(self, node):\n",
    "    if node is not None:\n",
    "        print(node.key)\n",
    "        self.print_tree_helper(node.left)\n",
    "        self.print_tree_helper(node.right)\n"
   ]
  },
  {
   "cell_type": "markdown",
   "metadata": {},
   "source": [
    "---\n",
    "## Expression Trees"
   ]
  },
  {
   "cell_type": "markdown",
   "metadata": {},
   "source": [
    "Applications\n",
    "- Mathematical Expression\n",
    "- Natural Languages\n",
    "- Compilers\n"
   ]
  },
  {
   "cell_type": "markdown",
   "metadata": {},
   "source": [
    "---\n",
    "### **Notability for Binary Search Tree Notes and Expression Trees**"
   ]
  }
 ],
 "metadata": {
  "interpreter": {
   "hash": "b30b16c83ff9e1edf05d1389201b91a87d2eda582773d1d418f36c288e735fdc"
  },
  "kernelspec": {
   "display_name": "Python 3.10.0 64-bit ('3.10.0': pyenv)",
   "language": "python",
   "name": "python3"
  },
  "language_info": {
   "codemirror_mode": {
    "name": "ipython",
    "version": 3
   },
   "file_extension": ".py",
   "mimetype": "text/x-python",
   "name": "python",
   "nbconvert_exporter": "python",
   "pygments_lexer": "ipython3",
   "version": "3.10.0"
  },
  "orig_nbformat": 4
 },
 "nbformat": 4,
 "nbformat_minor": 2
}
