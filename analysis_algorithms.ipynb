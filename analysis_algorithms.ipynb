{
 "cells": [
  {
   "cell_type": "markdown",
   "metadata": {},
   "source": [
    "# Analysis of Algorithms"
   ]
  },
  {
   "cell_type": "markdown",
   "metadata": {},
   "source": [
    "Examples that affect time for code to run\n",
    "- How busy the machine is **(No need to care for algorithm analysis)**\n",
    "- Problem size (# students)\n",
    "    - Focus on time vs Problem size\n",
    "- Code efficiency **(No need to care for algorithm analysis)**\n",
    "- Hardware **(No need to care for algorithm analysis)**\n",
    "- Programming language **(No need to care for algorithm analysis)**"
   ]
  },
  {
   "cell_type": "markdown",
   "metadata": {},
   "source": [
    "---\n",
    "## O(1)\n",
    "- Time (# of steps) does not depend on any problem size\n",
    "- **Constant time**"
   ]
  },
  {
   "cell_type": "markdown",
   "metadata": {},
   "source": [
    "Examples of O(1):\n",
    "- Getting the length of the list\n",
    "- Floor division\n",
    "- Going into the list to get the data"
   ]
  },
  {
   "cell_type": "markdown",
   "metadata": {},
   "source": [
    "O(1) algorithms: "
   ]
  },
  {
   "cell_type": "code",
   "execution_count": null,
   "metadata": {},
   "outputs": [],
   "source": [
    "def f(x):\n",
    "    return 16 + x * x\n",
    "\n",
    "def midElement(lst):\n",
    "    return lst[len(lst)//2]"
   ]
  },
  {
   "cell_type": "markdown",
   "metadata": {},
   "source": [
    "---\n",
    "## O(n)\n",
    "- Time (# steps) is directly proportional to the problem size\n",
    "- **Linear Time**\n",
    "    - Double the problem size --> double the time/steps\n",
    "- Scales the same for n or n//2 --> as n increases the computation time increases the same\n",
    "- **Cases scale the same but time it takes to complete may be different**"
   ]
  },
  {
   "cell_type": "markdown",
   "metadata": {},
   "source": [
    "Examples of O(n):\n",
    "- Returning the sum of a list of values: using a loop\n",
    "- **Linear Search**\n",
    "    - Searching a list for a value, the list is not sorted\n",
    "        - Using a loop\n",
    "        - **Built-in methods/functions**\n",
    "            - **Using ```.index()```**\n",
    "                - **Using built-in python functions usually use a method of searching --> so they might not be O(1)**\n",
    "            - ```in```\n",
    "            - ```max```\n",
    "            - ```map```\n",
    "            - ```reverse```\n",
    "            - Often times using list slicing ```[:]```\n",
    "            - ```zip```\n",
    "    - Cases\n",
    "        - **Best Case: O(1)**\n",
    "            - Often trivial -> best case scenario\n",
    "            - When the element you are looking for is first in the list\n",
    "        - **Worst Case: O(n)**\n",
    "            - Worst possible scenario\n",
    "            - When the element is either last in the list or not in the list\n",
    "        - **Average Case: O(n)**\n",
    "            - Average of all possible scenarios\n",
    "            - Finding the element in the middle\n",
    "        - **Typical Case:**\n",
    "            - Depends on real world data\n",
    "            - Needs a little more analysis to find Big O"
   ]
  },
  {
   "cell_type": "markdown",
   "metadata": {},
   "source": [
    "O(n) algorithms:"
   ]
  },
  {
   "cell_type": "code",
   "execution_count": 2,
   "metadata": {},
   "outputs": [],
   "source": [
    "def sum(nums):\n",
    "    sum = 0\n",
    "    for val in nums:\n",
    "        sum += val\n",
    "    return sum\n",
    "\n",
    "def linearSearch2(lst, searchVal):\n",
    "    try:\n",
    "        return lst.index(searchVal)\n",
    "    except:\n",
    "        return None\n",
    "\n",
    "def randomCalc(n):\n",
    "    x = 3.25\n",
    "    i = 0\n",
    "    while i < n:\n",
    "        x += 3/x\n",
    "        i += 1\n",
    "    for i in range(n//10):\n",
    "        x += 2*x + j/2\n",
    "    return x"
   ]
  },
  {
   "cell_type": "markdown",
   "metadata": {},
   "source": [
    "```randomCalc7```\n",
    "- Doubling the size -> one more recursive call\n",
    "    - O(n) loop\n",
    "    - Calling the function recursively so O(log n)\n",
    "    - *So it seems like the answer is O(n log n)*\n",
    "    - Code inside the for loop runs the most\n",
    "        - n + n/2 + n/4 + n/8 + \n",
    "        - n + n = 2n\n",
    "        - **O(n)**\n",
    "            - *Gets cut in half each time because of n//2 in recursive call*"
   ]
  },
  {
   "cell_type": "code",
   "execution_count": null,
   "metadata": {},
   "outputs": [],
   "source": [
    "def randomCalc7(n, x=0):\n",
    "    if n <= 0:\n",
    "        return 0\n",
    "    for i in range(n):\n",
    "        x += 2*x + i*1.2\n",
    "    x += randomCalc7(n//2, x+1)\n",
    "    return x"
   ]
  },
  {
   "cell_type": "markdown",
   "metadata": {},
   "source": [
    "```randomCalc8```\n",
    "- ```While``` loops is O(log n)\n",
    "- ```For``` loop is **O(n)**\n",
    "    - Dominates the while loop when you look at graph\n",
    "    - Problem size gets bigger than *log n* becomes trivial\n",
    "- **Entire function is O(n)**"
   ]
  },
  {
   "cell_type": "code",
   "execution_count": null,
   "metadata": {},
   "outputs": [],
   "source": [
    "def randomCalc8(n):\n",
    "    x = 3.25\n",
    "    i = 2\n",
    "    order = n\n",
    "    while i <= n:\n",
    "        x += 2*x + i*1.2\n",
    "        i *= 2\n",
    "    for j in range(n):\n",
    "        x += 2*x + j/2\n",
    "    return x"
   ]
  },
  {
   "cell_type": "markdown",
   "metadata": {},
   "source": [
    "---\n",
    "\n",
    "## O(n^2)\n",
    "- Time (# steps) is proportional to the square of the problem size\n",
    "- Ex. 2x the problem size --> 4x time/steps"
   ]
  },
  {
   "cell_type": "markdown",
   "metadata": {},
   "source": [
    "O(n^2) algorithms:"
   ]
  },
  {
   "cell_type": "code",
   "execution_count": null,
   "metadata": {},
   "outputs": [],
   "source": [
    "def randomCalculation(n):\n",
    "    x = 3.25\n",
    "    for i in range(n):\n",
    "        for j in range(n):\n",
    "            x ++ 2*x + j/2 + i*1.2\n",
    "    \n",
    "    return x"
   ]
  },
  {
   "cell_type": "markdown",
   "metadata": {},
   "source": [
    "---\n",
    "\n",
    "## O(log n)\n",
    "- **\"Exponential decay\" (Mirror of exponential growth)**\n",
    "- Time/steps is proportional to log(problem size)\n",
    "- Ex. 2x size --> 1 more step\n",
    "- log n approaches horizontal but never becomes horizontal"
   ]
  },
  {
   "cell_type": "markdown",
   "metadata": {},
   "source": [
    "O(log n) algorithms:"
   ]
  },
  {
   "cell_type": "code",
   "execution_count": null,
   "metadata": {},
   "outputs": [],
   "source": [
    "# make list of n (problem size) vs # steps\n",
    "def randomCalc(n):\n",
    "    x = 3.25\n",
    "    i = 1\n",
    "    while i <= n:\n",
    "        x += 3/x + i*1.2\n",
    "        i *= 2\n",
    "    return x"
   ]
  },
  {
   "cell_type": "markdown",
   "metadata": {},
   "source": [
    "---\n",
    "## Recursive Fibonacci"
   ]
  },
  {
   "cell_type": "markdown",
   "metadata": {},
   "source": [
    "Time Complexity\n",
    "- O(1) - >for each pass through function\n",
    "- **O(n) -> function calls** (Classified with the higher of the time complexities)"
   ]
  },
  {
   "cell_type": "code",
   "execution_count": null,
   "metadata": {},
   "outputs": [],
   "source": [
    "def rec_fib(n, num = 2, fib1 = 0, fib2 = 1):\n",
    "    if n == 0:\n",
    "        return 0\n",
    "    if n == 1:\n",
    "        return 1\n",
    "    if num == n:\n",
    "        return fib1 + fib2\n",
    "    return rec_fib(n, num + 1, fib2, fib1+fib2)"
   ]
  },
  {
   "cell_type": "markdown",
   "metadata": {},
   "source": [
    "---\n",
    "## O(n log n)"
   ]
  },
  {
   "cell_type": "markdown",
   "metadata": {},
   "source": [
    "- In between O(n^2) and O(n) on time complexities graph\n",
    "- **Look at the most run code in the algorithm**"
   ]
  },
  {
   "cell_type": "markdown",
   "metadata": {},
   "source": [
    "Example of O(n log n) algorithm:\n",
    "- Example 1:\n",
    "    - Outer loop is O(log n): n times 2 --> loops +1\n",
    "    - Inner loop is O(n)\n",
    "- **Example 2:**\n",
    "    - O(n) algorithm\n",
    "\n"
   ]
  },
  {
   "cell_type": "code",
   "execution_count": 4,
   "metadata": {},
   "outputs": [],
   "source": [
    "def randomCalc5(n):\n",
    "    x = 3.25\n",
    "    i = 2\n",
    "    while i <= n:\n",
    "        for j in range(n):\n",
    "            x += 2*x + j/2 + i*1.2\n",
    "        i *= 2\n",
    "    return x\n",
    "\n",
    "#Example 2\n",
    "def randomCalc6(n):\n",
    "    x = 3.25\n",
    "    i = 2\n",
    "    while i <= n:\n",
    "        for j in range(i): #changed n to i\n",
    "            x += 2*x + j/2 + i*1.2\n",
    "        i *= 2\n",
    "    return x\n"
   ]
  }
 ],
 "metadata": {
  "interpreter": {
   "hash": "b30b16c83ff9e1edf05d1389201b91a87d2eda582773d1d418f36c288e735fdc"
  },
  "kernelspec": {
   "display_name": "Python 3.10.0 64-bit ('3.10.0': pyenv)",
   "language": "python",
   "name": "python3"
  },
  "language_info": {
   "codemirror_mode": {
    "name": "ipython",
    "version": 3
   },
   "file_extension": ".py",
   "mimetype": "text/x-python",
   "name": "python",
   "nbconvert_exporter": "python",
   "pygments_lexer": "ipython3",
   "version": "3.10.0"
  },
  "orig_nbformat": 4
 },
 "nbformat": 4,
 "nbformat_minor": 2
}
