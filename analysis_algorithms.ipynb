{
 "cells": [
  {
   "cell_type": "markdown",
   "metadata": {},
   "source": [
    "# Analysis of Algorithms"
   ]
  },
  {
   "cell_type": "markdown",
   "metadata": {},
   "source": [
    "Examples that affect time for code to run\n",
    "- How busy the machine is **(No need to care for algorithm analysis)**\n",
    "- Problem size (# students)\n",
    "    - Focus on time vs Problem size\n",
    "- Code efficiency **(No need to care for algorithm analysis)**\n",
    "- Hardware **(No need to care for algorithm analysis)**\n",
    "- Programming language **(No need to care for algorithm analysis)**"
   ]
  },
  {
   "cell_type": "markdown",
   "metadata": {},
   "source": [
    "---\n",
    "## O(1)\n",
    "- Time (# of steps) does not depend on any problem size\n",
    "- **Constant time**"
   ]
  },
  {
   "cell_type": "markdown",
   "metadata": {},
   "source": [
    "Examples of O(1):\n",
    "- Getting the length of the list\n",
    "- Floor division\n",
    "- Going into the list to get the data"
   ]
  },
  {
   "cell_type": "markdown",
   "metadata": {},
   "source": [
    "O(1) algorithms: "
   ]
  },
  {
   "cell_type": "code",
   "execution_count": null,
   "metadata": {},
   "outputs": [],
   "source": [
    "def f(x):\n",
    "    return 16 + x * x\n",
    "\n",
    "def midElement(lst):\n",
    "    return lst[len(lst)//2]"
   ]
  },
  {
   "cell_type": "markdown",
   "metadata": {},
   "source": [
    "---\n",
    "## O(n)\n",
    "- Time (# steps) is directly proportional to the problem size\n",
    "- **Linear Time**\n",
    "    - Double the problem size --> double the time/steps\n",
    "- Scales the same for n or n//2 --> as n increases the computation time increases the same\n",
    "- **Cases scale the same but time it takes to complete may be different**"
   ]
  },
  {
   "cell_type": "markdown",
   "metadata": {},
   "source": [
    "Examples of O(n):\n",
    "- Returning the sum of a list of values: using a loop\n",
    "- **Linear Search**\n",
    "    - Searching a list for a value, the list is not sorted\n",
    "        - Using a loop\n",
    "        - **Built-in methods/functions**\n",
    "            - **Using ```.index()```**\n",
    "                - **Using built-in python functions usually use a method of searching --> so they might not be O(1)**\n",
    "            - ```in```\n",
    "            - ```max```\n",
    "            - ```map```\n",
    "            - ```reverse```\n",
    "            - Often times using list slicing ```[:]```\n",
    "            - ```zip```\n",
    "    - Cases\n",
    "        - **Best Case: O(1)**\n",
    "            - Often trivial -> best case scenario\n",
    "            - When the element you are looking for is first in the list\n",
    "        - **Worst Case: O(n)**\n",
    "            - Worst possible scenario\n",
    "            - When the element is either last in the list or not in the list\n",
    "        - **Average Case: O(n)**\n",
    "            - Average of all possible scenarios\n",
    "            - Finding the element in the middle\n",
    "        - **Typical Case:**\n",
    "            - Depends on real world data\n",
    "            - Needs a little more analysis to find Big O"
   ]
  },
  {
   "cell_type": "markdown",
   "metadata": {},
   "source": [
    "O(n) algorithms:"
   ]
  },
  {
   "cell_type": "code",
   "execution_count": null,
   "metadata": {},
   "outputs": [],
   "source": [
    "def sum(nums):\n",
    "    sum = 0\n",
    "    for val in nums:\n",
    "        sum += val\n",
    "    return sum\n",
    "\n",
    "def linearSearch2(lst, searchVal):\n",
    "    try:\n",
    "        return lst.index(searchVal)\n",
    "    except:\n",
    "        return None"
   ]
  }
 ],
 "metadata": {
  "language_info": {
   "name": "python"
  },
  "orig_nbformat": 4
 },
 "nbformat": 4,
 "nbformat_minor": 2
}
