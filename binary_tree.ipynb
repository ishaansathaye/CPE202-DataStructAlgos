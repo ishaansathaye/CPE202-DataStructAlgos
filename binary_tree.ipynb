{
 "cells": [
  {
   "cell_type": "markdown",
   "metadata": {},
   "source": [
    "# Binary Tree and General Tree Data Structure"
   ]
  },
  {
   "cell_type": "markdown",
   "metadata": {},
   "source": [
    "## General Notes\n",
    "- **Root Node**: top entity\n",
    "- **Leaves**: nodes that have no children\n",
    "- Nodes are also referred to as parents and child"
   ]
  },
  {
   "cell_type": "markdown",
   "metadata": {},
   "source": [
    "## Binary Tree\n",
    "- **Each parent has max of two children**\n",
    "- **Parent has a left child and right child**\n",
    "- There are also left and right subtrees in the binary tree"
   ]
  },
  {
   "cell_type": "markdown",
   "metadata": {},
   "source": [
    "- A *binary tree* is a tree in which each vertex has at most two children\n",
    "- Terminology: root, parent, left child, right child, subtree"
   ]
  },
  {
   "cell_type": "markdown",
   "metadata": {},
   "source": [
    "## Binary Search Tree\n",
    "- **Everything that is left of the root node --> less than the root node**\n",
    "- **Everything that is right of the root node --> greater than the root node**\n",
    "- Same relationship applies to all the other subtrees"
   ]
  },
  {
   "cell_type": "markdown",
   "metadata": {},
   "source": [
    "Use-case: used to store items in memory\n",
    "- Allow for fast lookup, insertion, and deletion\n",
    "- Keep their keys in sorted order so that lookup and other operation can use the principle of binary search\n",
    "    - **Key: attribute or combination of attributes that uniquely identify an object**"
   ]
  },
  {
   "cell_type": "markdown",
   "metadata": {},
   "source": [
    "### **Notability for Binary Search Tree Notes**"
   ]
  }
 ],
 "metadata": {
  "language_info": {
   "name": "python"
  },
  "orig_nbformat": 4
 },
 "nbformat": 4,
 "nbformat_minor": 2
}
