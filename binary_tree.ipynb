{
 "cells": [
  {
   "cell_type": "markdown",
   "metadata": {},
   "source": [
    "# Binary Tree and General Tree Data Structure"
   ]
  },
  {
   "cell_type": "markdown",
   "metadata": {},
   "source": [
    "## General Notes\n",
    "- **Root Node**: top entity\n",
    "- **Leaves**: nodes that have no children\n",
    "- Nodes are also referred to as parents and child"
   ]
  },
  {
   "cell_type": "markdown",
   "metadata": {},
   "source": [
    "## Binary Tree\n",
    "- **Each parent has max of two children**\n",
    "- **Parent has a left child and right child**\n",
    "- There are also left and right subtrees in the binary tree"
   ]
  },
  {
   "cell_type": "markdown",
   "metadata": {},
   "source": [
    "## Binary Search Tree\n",
    "- **Everything that is left of the root node --> less than the root node**\n",
    "- **Everything that is right of the root node --> greater than the root node**\n",
    "- Same relationship applies to all the other subtrees"
   ]
  }
 ],
 "metadata": {
  "language_info": {
   "name": "python"
  },
  "orig_nbformat": 4
 },
 "nbformat": 4,
 "nbformat_minor": 2
}
