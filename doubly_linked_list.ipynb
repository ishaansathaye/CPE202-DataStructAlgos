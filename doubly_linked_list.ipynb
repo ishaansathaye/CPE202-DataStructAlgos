{
 "cells": [
  {
   "cell_type": "markdown",
   "metadata": {},
   "source": [
    "# Doubly Linked List"
   ]
  },
  {
   "cell_type": "markdown",
   "metadata": {},
   "source": [
    "### Circular Doubly Linked List"
   ]
  },
  {
   "cell_type": "markdown",
   "metadata": {},
   "source": [
    "- **Tail node's next pointer points to the head**\n",
    "- **Head node's previous pointer points to the tail**"
   ]
  },
  {
   "cell_type": "markdown",
   "metadata": {},
   "source": [
    "### Adding to the End"
   ]
  },
  {
   "cell_type": "markdown",
   "metadata": {},
   "source": [
    "- Not keeping track of the tail\n",
    "- Creating links\n",
    "    - Link between new node and original node\n",
    "    - Link between new node and head\n",
    "    - Link between new node and head\n",
    "    - Link between tail and new node\n"
   ]
  },
  {
   "cell_type": "code",
   "execution_count": 3,
   "metadata": {},
   "outputs": [],
   "source": [
    "class Node:\n",
    "    def __init__(self, data) -> None:\n",
    "        self.data = data\n",
    "        self.next = None\n",
    "        self.prev = None\n",
    "\n",
    "def add_end(self, data): \n",
    "    '''Does not work for empty list'''\n",
    "    node = Node(data) #creating a new node\n",
    "    node.prev = self.head.prev #setting the tail to become the previous of new node \n",
    "    node.next = self.head #setting the head to become the next of new node\n",
    "    self.head.prev = node #setting the prev of the head node to become the new node\n",
    "    node.prev.next = node #setting the next of the prev of new node to become the new new node\n"
   ]
  },
  {
   "cell_type": "markdown",
   "metadata": {},
   "source": [
    "- To create an algorithm that works if list empty or not:\n",
    "    - Create a dummy node that its pointers refer to itself\n",
    "    - Eliminates special case code"
   ]
  },
  {
   "cell_type": "code",
   "execution_count": null,
   "metadata": {},
   "outputs": [],
   "source": [
    "def add_end(self, data):\n",
    "    node = Node(data)\n",
    "    node.next = self.head\n",
    "    node.prev = self.head.prev\n",
    "    self.head.prev = node\n",
    "    node.prev.next = node"
   ]
  },
  {
   "cell_type": "markdown",
   "metadata": {},
   "source": [
    "Writing functions recursively:\n",
    "- ```size``` function needs to count the items using recursion\n",
    "    - Base condition: dummy node, which is the head, means that the list is empty\n",
    "    - Start counting after dummy node and stop counting when circle back to dummy"
   ]
  },
  {
   "cell_type": "code",
   "execution_count": 4,
   "metadata": {},
   "outputs": [],
   "source": [
    "def size(self):\n",
    "    return self.size_helper(self.head.next) #passes the next node after dummy node when starting \n",
    "\n",
    "def size_helper(self, node):\n",
    "    '''Better implementation conceptually-wise'''\n",
    "    if node == self.head: #base condition\n",
    "        return 0 #if empty list too just return 0\n",
    "    return 1 + self.size_helper(node.next) #count for the current node and then call the function on the next node\n",
    "\n",
    "def size_helper2(self, node, count=0):\n",
    "    '''Keeping track of the count going into the recursion'''\n",
    "    if node == self.head:\n",
    "        return count\n",
    "    return self.size_helper2(node.next, count+1)"
   ]
  },
  {
   "cell_type": "code",
   "execution_count": null,
   "metadata": {},
   "outputs": [],
   "source": []
  }
 ],
 "metadata": {
  "interpreter": {
   "hash": "b30b16c83ff9e1edf05d1389201b91a87d2eda582773d1d418f36c288e735fdc"
  },
  "kernelspec": {
   "display_name": "Python 3.10.0 64-bit ('3.10.0': pyenv)",
   "language": "python",
   "name": "python3"
  },
  "language_info": {
   "codemirror_mode": {
    "name": "ipython",
    "version": 3
   },
   "file_extension": ".py",
   "mimetype": "text/x-python",
   "name": "python",
   "nbconvert_exporter": "python",
   "pygments_lexer": "ipython3",
   "version": "3.10.0"
  },
  "orig_nbformat": 4
 },
 "nbformat": 4,
 "nbformat_minor": 2
}
