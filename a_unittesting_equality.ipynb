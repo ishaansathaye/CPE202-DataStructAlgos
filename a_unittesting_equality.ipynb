{
 "cells": [
  {
   "cell_type": "markdown",
   "metadata": {},
   "source": [
    "Lecture 1 and 2"
   ]
  },
  {
   "cell_type": "markdown",
   "metadata": {},
   "source": [
    "# Unit Testing"
   ]
  },
  {
   "cell_type": "code",
   "execution_count": 2,
   "metadata": {},
   "outputs": [],
   "source": [
    "def max_of_three(a, b, c):\n",
    "    if a > b and a > c:\n",
    "        return a\n",
    "    if b > c:\n",
    "        return b\n",
    "    return c"
   ]
  },
  {
   "cell_type": "markdown",
   "metadata": {},
   "source": [
    "- Testing \n",
    "    - When testing pay attention to the edge and border cases\n",
    "        - How to break the code\n",
    "        - Need to test all areas of the lines of code\n",
    "        \n",
    "\n",
    "- **Need to start test functions for making unit tests with ```test```:**\n",
    "    - ```def test_example12(self):```\n"
   ]
  },
  {
   "cell_type": "markdown",
   "metadata": {},
   "source": [
    "Testing ```max_of_three()``` function:\n",
    "- Think of different possible ways to break the function\n",
    "- Different combinations of numbers"
   ]
  },
  {
   "cell_type": "markdown",
   "metadata": {},
   "source": [
    "## How to Test"
   ]
  },
  {
   "cell_type": "code",
   "execution_count": 4,
   "metadata": {},
   "outputs": [
    {
     "name": "stderr",
     "output_type": "stream",
     "text": [
      "E\n",
      "======================================================================\n",
      "ERROR: /Users/ishaansathaye/Library/Jupyter/runtime/kernel-f37b9df9-a73f-4bcc-adf3-442722f0a4e9 (unittest.loader._FailedTest)\n",
      "----------------------------------------------------------------------\n",
      "AttributeError: module '__main__' has no attribute '/Users/ishaansathaye/Library/Jupyter/runtime/kernel-f37b9df9-a73f-4bcc-adf3-442722f0a4e9'\n",
      "\n",
      "----------------------------------------------------------------------\n",
      "Ran 1 test in 0.001s\n",
      "\n",
      "FAILED (errors=1)\n"
     ]
    },
    {
     "ename": "SystemExit",
     "evalue": "True",
     "output_type": "error",
     "traceback": [
      "An exception has occurred, use %tb to see the full traceback.\n",
      "\u001b[0;31mSystemExit\u001b[0m\u001b[0;31m:\u001b[0m True\n"
     ]
    },
    {
     "name": "stderr",
     "output_type": "stream",
     "text": [
      "/Users/ishaansathaye/.pyenv/versions/3.10.0/lib/python3.10/site-packages/IPython/core/interactiveshell.py:3452: UserWarning: To exit: use 'exit', 'quit', or Ctrl-D.\n",
      "  warn(\"To exit: use 'exit', 'quit', or Ctrl-D.\", stacklevel=1)\n"
     ]
    }
   ],
   "source": [
    "import unittest\n",
    "\n",
    "class TestCases(unittest.TestCase):\n",
    "    def test_example(self):\n",
    "        self.assertEqual()\n",
    "\n",
    "    def test_example2(self):\n",
    "        self.assertAlmostEqual() #for floating point values (dividing two numbers)\n",
    "\n",
    "if __name__ == '__main__':\n",
    "    unittest.main()"
   ]
  },
  {
   "cell_type": "markdown",
   "metadata": {},
   "source": [
    "---\n",
    "# Equality"
   ]
  },
  {
   "cell_type": "code",
   "execution_count": 2,
   "metadata": {},
   "outputs": [],
   "source": [
    "class Point:\n",
    "    def __init__(self, x, y):\n",
    "        self.x = x\n",
    "        self.y = y\n"
   ]
  },
  {
   "cell_type": "code",
   "execution_count": 9,
   "metadata": {},
   "outputs": [
    {
     "data": {
      "text/plain": [
       "(<__main__.Point at 0x105782950>, <__main__.Point at 0x105782950>)"
      ]
     },
     "execution_count": 9,
     "metadata": {},
     "output_type": "execute_result"
    }
   ],
   "source": [
    "p1 = Point(2, 3)\n",
    "p2 = Point(2, 3)\n",
    "p3 = p1 #p1 and p3 refer to the same Point object - how Python works with objects and variable assignments"
   ]
  },
  {
   "cell_type": "markdown",
   "metadata": {},
   "source": [
    "Equality without a ```__eq__``` function:"
   ]
  },
  {
   "cell_type": "code",
   "execution_count": 16,
   "metadata": {},
   "outputs": [
    {
     "data": {
      "text/plain": [
       "True"
      ]
     },
     "execution_count": 16,
     "metadata": {},
     "output_type": "execute_result"
    }
   ],
   "source": [
    "p1 == p3 #True -> finding out if their memory reference locations are equal"
   ]
  },
  {
   "cell_type": "code",
   "execution_count": 15,
   "metadata": {},
   "outputs": [
    {
     "data": {
      "text/plain": [
       "False"
      ]
     },
     "execution_count": 15,
     "metadata": {},
     "output_type": "execute_result"
    }
   ],
   "source": [
    "p1 == p2 #False -> finding out if their memory reference locations are equal"
   ]
  },
  {
   "cell_type": "markdown",
   "metadata": {},
   "source": [
    "Equality using ```__eq__``` method in class:"
   ]
  },
  {
   "cell_type": "code",
   "execution_count": 35,
   "metadata": {},
   "outputs": [
    {
     "name": "stdout",
     "output_type": "stream",
     "text": [
      "True\n",
      "True\n",
      "False\n"
     ]
    }
   ],
   "source": [
    "class Point:\n",
    "    def __init__(self, x, y):\n",
    "        self.x = x\n",
    "        self.y = y\n",
    "    \n",
    "    def __eq__(self, other):\n",
    "        #compares objects attributes to another objects attributes (also need to check for points)\n",
    "        return type(other) == Point and self.x == other.x and self.y == other.y #short-circuit evaluation\n",
    "\n",
    "p1 = Point(2, 3)\n",
    "p2 = Point(2, 3)\n",
    "p3 = p1\n",
    "print(p1 == p3)\n",
    "print(p1 == p2)\n",
    "print(p1 == 'cat')"
   ]
  },
  {
   "cell_type": "markdown",
   "metadata": {},
   "source": [
    "- Short-circuit evaluation - makes programming languages faster (all languages use this)\n",
    "    - F and -- and -- and \n",
    "    - Above entire expression must be ```False``` since using ```and``` "
   ]
  },
  {
   "cell_type": "code",
   "execution_count": 39,
   "metadata": {},
   "outputs": [
    {
     "name": "stdout",
     "output_type": "stream",
     "text": [
      "3.100000000000001\n",
      "False\n"
     ]
    }
   ],
   "source": [
    "p4 = Point(2, 3.1)\n",
    "p5 = Point(2, 2+0.1+0.1+0.1+0.1+0.1+0.1+0.1+0.1+0.1+0.1+0.1)\n",
    "print(2+0.1+0.1+0.1+0.1+0.1+0.1+0.1+0.1+0.1+0.1+0.1)\n",
    "print(p4 == p5) #results in False"
   ]
  },
  {
   "cell_type": "markdown",
   "metadata": {},
   "source": [
    "- Computing p4 == p5\n",
    "    - Comparing *floating point value* of ```3.1``` with a *computed floating point value* of ```3.000000000000001```\n",
    "    - **Get very tiny \"rounding errors\" because of how floating point values are stored in a binary base 2 system**"
   ]
  },
  {
   "cell_type": "markdown",
   "metadata": {},
   "source": [
    "- Using math.isclose()\n",
    "    - Evaluates floating point values by checking if they are close enough (due to rounding errors)"
   ]
  },
  {
   "cell_type": "code",
   "execution_count": 40,
   "metadata": {},
   "outputs": [],
   "source": [
    "import math\n",
    "class Point:\n",
    "    def __init__(self, x, y):\n",
    "        self.x = x\n",
    "        self.y = y\n",
    "    \n",
    "    def __eq__(self, other):\n",
    "        return type(other) == Point and math.isclose(self.x, other.x) and math.isclose(self.y, other.y)"
   ]
  },
  {
   "cell_type": "code",
   "execution_count": 41,
   "metadata": {},
   "outputs": [
    {
     "name": "stdout",
     "output_type": "stream",
     "text": [
      "3.100000000000001\n",
      "True\n"
     ]
    }
   ],
   "source": [
    "p4 = Point(2, 3.1)\n",
    "p5 = Point(2, 2+0.1+0.1+0.1+0.1+0.1+0.1+0.1+0.1+0.1+0.1+0.1)\n",
    "print(p4 == p5) #results in True due to using math.isclose()"
   ]
  }
 ],
 "metadata": {
  "interpreter": {
   "hash": "b30b16c83ff9e1edf05d1389201b91a87d2eda582773d1d418f36c288e735fdc"
  },
  "kernelspec": {
   "display_name": "Python 3.10.0 64-bit ('3.10.0': pyenv)",
   "language": "python",
   "name": "python3"
  },
  "language_info": {
   "codemirror_mode": {
    "name": "ipython",
    "version": 3
   },
   "file_extension": ".py",
   "mimetype": "text/x-python",
   "name": "python",
   "nbconvert_exporter": "python",
   "pygments_lexer": "ipython3",
   "version": "3.10.0"
  },
  "orig_nbformat": 4
 },
 "nbformat": 4,
 "nbformat_minor": 2
}
