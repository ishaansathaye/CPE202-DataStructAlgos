{
 "cells": [
  {
   "cell_type": "markdown",
   "metadata": {},
   "source": [
    "# Recursion"
   ]
  },
  {
   "cell_type": "markdown",
   "metadata": {},
   "source": [
    "---\n",
    "## Theory\n",
    "- What is recursion or a recursive function?\n",
    "    - A function that makes a call to itself"
   ]
  },
  {
   "cell_type": "markdown",
   "metadata": {},
   "source": [
    "- Two Ways to repeat an action\n",
    "    - Iteration (loop)\n",
    "        - Anything you can do recursively you can do with a loop\n",
    "    - Recursion\n",
    "        - **Anything that you can do with a loop can also be done with recursion**\n",
    "        - *Where to use Recursion*\n",
    "            - **Navigating Tree Structures**\n",
    "                - Going through a file directory\n",
    "- Some problems are easier to solve with recursion that iterations"
   ]
  },
  {
   "cell_type": "markdown",
   "metadata": {},
   "source": [
    "### Recursion Needs\n",
    "1) **Base case/cases**\n",
    "    - *Simple cases where we know the answer*\n",
    "2) **Recursive step**\n",
    "    - *\"Move\" closer to the base case*"
   ]
  },
  {
   "cell_type": "markdown",
   "metadata": {},
   "source": [
    "### How Recursive Calls Work\n",
    "- When you make a function call, machine sets up a tiny piece of memory needed to keep track of that function call\n",
    "    - That tiny piece of memory keeps track of parameter values, if the function has any local variables...\n",
    "    - Each one of these are called **activation records** (formal term) or **stack frames**"
   ]
  },
  {
   "cell_type": "markdown",
   "metadata": {},
   "source": [
    "### Performance of Recursion\n",
    "- Memory\n",
    "    - When you make a function call -> tiny piece of memory is stored in a **runtime stack**\n",
    "    - **Stack Overflow** -> **ran out of room on the runtime stack because the recursion went too long**\n",
    "        - For the add() function inputting a large number would result in running out of memory space on the runtime stack\n",
    "    - *Doing anything recursively takes up more memory than if you do it iteratively*\n",
    "- Time\n",
    "    - Runs slower\n",
    "- So why use recursion if slower and uses more memory:\n",
    "    - Convenient, solutions are elegant, and much easier to write recursively than iteratively"
   ]
  },
  {
   "cell_type": "markdown",
   "metadata": {},
   "source": [
    "Tail-Call Optimization - making function calls without growing the call stack"
   ]
  },
  {
   "cell_type": "markdown",
   "metadata": {},
   "source": [
    "---\n",
    "## Code Examples"
   ]
  },
  {
   "cell_type": "markdown",
   "metadata": {},
   "source": [
    "Compute the sum of integers 0....n:\n",
    "- sum(10) -> 1+2+3....10"
   ]
  },
  {
   "cell_type": "code",
   "execution_count": 3,
   "metadata": {},
   "outputs": [
    {
     "name": "stdout",
     "output_type": "stream",
     "text": [
      "55\n"
     ]
    }
   ],
   "source": [
    "# Iterative Approach:\n",
    "def add(n):\n",
    "    return sum([i for i in range(1, n+1)])\n",
    "\n",
    "print(add(10))"
   ]
  },
  {
   "cell_type": "markdown",
   "metadata": {},
   "source": [
    "Recursive Step: sum(n) -> **n + sum(n-1)**\n",
    "- sum(10) -> 10 + sum(9)\n",
    "    - 9 + sum(8)\n",
    "        - 8 + sum(7)"
   ]
  },
  {
   "cell_type": "markdown",
   "metadata": {},
   "source": [
    "Work of summing is done when coming out of the recursion calls: "
   ]
  },
  {
   "cell_type": "code",
   "execution_count": 16,
   "metadata": {},
   "outputs": [
    {
     "name": "stdout",
     "output_type": "stream",
     "text": [
      "55\n",
      "0\n"
     ]
    }
   ],
   "source": [
    "#Recursive Approach 1:\n",
    "def add(n):\n",
    "    if n <= 0: #need to also account for negative values\n",
    "        return 0\n",
    "    return n + add(n-1)\n",
    "\n",
    "print(add(10))\n",
    "print(add(-1))\n"
   ]
  },
  {
   "cell_type": "markdown",
   "metadata": {},
   "source": [
    "Work of summing is done when going into the recursion calls:\n",
    "- if reached the base case we already know the answer\n",
    "- *debug to see below algo visualized*"
   ]
  },
  {
   "cell_type": "code",
   "execution_count": 21,
   "metadata": {},
   "outputs": [
    {
     "name": "stdout",
     "output_type": "stream",
     "text": [
      "55\n"
     ]
    }
   ],
   "source": [
    "def add(n, total=0): #give a default value so no need to pass anything in the beginning\n",
    "    if n <= 0:\n",
    "        return total\n",
    "    return add(n-1, total+n)\n",
    "\n",
    "print(add(10))\n",
    "    "
   ]
  },
  {
   "cell_type": "markdown",
   "metadata": {},
   "source": [
    "contains() -> returns True if a value is in the list, False otherwise"
   ]
  },
  {
   "cell_type": "code",
   "execution_count": 22,
   "metadata": {},
   "outputs": [
    {
     "name": "stdout",
     "output_type": "stream",
     "text": [
      "True\n"
     ]
    }
   ],
   "source": [
    "#Iterative Approach\n",
    "def contains(l, n):\n",
    "    for i in l:\n",
    "        if i == n:\n",
    "            return True\n",
    "    return False\n",
    "\n",
    "print(contains([10, 20, 30], 20))"
   ]
  },
  {
   "cell_type": "markdown",
   "metadata": {},
   "source": [
    "Recursive step:\n",
    "- if the item that is at stop 0 (beginning of the list) is the one looking for -> return True\n",
    "- else -? recurse on the rest of the list"
   ]
  },
  {
   "cell_type": "markdown",
   "metadata": {},
   "source": [
    "List slice is very inefficient because it makes a new list and **copies** everything over"
   ]
  },
  {
   "cell_type": "code",
   "execution_count": 37,
   "metadata": {},
   "outputs": [
    {
     "name": "stdout",
     "output_type": "stream",
     "text": [
      "True\n",
      "True\n"
     ]
    }
   ],
   "source": [
    "#Recursive Approach\n",
    "def contains(l, n):\n",
    "    if not l: #base case #1\n",
    "        return False\n",
    "    if l[0] == n: #base case #2\n",
    "        return True\n",
    "    return contains(l[1:], n)\n",
    "\n",
    "#concise version\n",
    "def contains2(l, n):\n",
    "    return l[0] == n or contains(l[1:], n) # True or - -> if first statement False True does not go to second statement\n",
    "\n",
    "print(contains([10, 20, 30], 20))\n",
    "print(contains2([10, 20, 30], 20))\n"
   ]
  },
  {
   "cell_type": "markdown",
   "metadata": {},
   "source": [
    "**More efficient way than list splicing:** -> passing extra parameters with default values"
   ]
  },
  {
   "cell_type": "code",
   "execution_count": 53,
   "metadata": {},
   "outputs": [
    {
     "name": "stdout",
     "output_type": "stream",
     "text": [
      "False\n",
      "False\n"
     ]
    }
   ],
   "source": [
    "def contains(l, n, spot=0):\n",
    "    if spot >= len(l): #if third parameter passed is greater than length of list\n",
    "        return False\n",
    "    if n == l[spot]:\n",
    "        return True\n",
    "    return contains(l, n, spot+1)\n",
    "\n",
    "#concise version\n",
    "def contains2(l, n, spot=0):\n",
    "    return spot >= len(l) or n == l[spot] or contains(l, n, spot+1)\n",
    "\n",
    "print(contains([10, 20, 30], 40))\n",
    "print(contains2([10, 20, 30], 40))"
   ]
  },
  {
   "cell_type": "markdown",
   "metadata": {},
   "source": [
    "Testing ```contains()``` function:\n",
    "- Item occurs in list\n",
    "    - beginning \n",
    "    - middle\n",
    "    - end\n",
    "- Item does not occur in list\n",
    "- Pass a spot greater than length of list"
   ]
  },
  {
   "cell_type": "markdown",
   "metadata": {},
   "source": [
    "Example of testing:"
   ]
  },
  {
   "cell_type": "code",
   "execution_count": null,
   "metadata": {},
   "outputs": [],
   "source": [
    "#In unit testing file\n",
    "lst = []\n",
    "for i in range(100):\n",
    "    lst.append(i)\n",
    "for i in range(100):\n",
    "    # self.asswerTrue(contains(lst, i))\n",
    "#self.assertFalse(contains(lst, i))"
   ]
  },
  {
   "cell_type": "markdown",
   "metadata": {},
   "source": [
    "Fibonacci numbers: 0, 1, 1, 2, 3, 5, 8, 13, 21, 34\n",
    "- Generate fib numbers using recursion:"
   ]
  },
  {
   "cell_type": "markdown",
   "metadata": {},
   "source": [
    "n vs # of calls\n",
    "- n: 2 | 3 | 4 | 5 | 6 | 7 | 8\n",
    "---\n",
    "- c: 3 | 5 | 9 | 15| 25| 41| 67"
   ]
  },
  {
   "cell_type": "markdown",
   "metadata": {},
   "source": [
    "- Every time there is an increase of n by 1 -> multiply the number of calls is **(1 + root(5)/2)** -> the golden ratio\n",
    "- Exponential growth in the number of calls "
   ]
  },
  {
   "cell_type": "code",
   "execution_count": 63,
   "metadata": {},
   "outputs": [
    {
     "name": "stdout",
     "output_type": "stream",
     "text": [
      "21\n",
      "21\n",
      "21\n"
     ]
    }
   ],
   "source": [
    "def fib0(n):\n",
    "    if n == 0:\n",
    "        return 0\n",
    "    if n == 1:\n",
    "        return 1\n",
    "    return fib0(n-1) + fib(n-2)\n",
    "\n",
    "def fib(n):\n",
    "    if n == 0 or n == 1: #base cases\n",
    "        return n\n",
    "    return fib(n-1) + fib(n-2)\n",
    "\n",
    "#concise version\n",
    "def fib2(n):\n",
    "    return (n == 0 or n == 1) or fib(n-1) + fib(n-2)\n",
    "\n",
    "print(fib0(8))\n",
    "print(fib(8))\n",
    "print(fib2(8))"
   ]
  },
  {
   "cell_type": "code",
   "execution_count": null,
   "metadata": {},
   "outputs": [],
   "source": []
  }
 ],
 "metadata": {
  "interpreter": {
   "hash": "b30b16c83ff9e1edf05d1389201b91a87d2eda582773d1d418f36c288e735fdc"
  },
  "kernelspec": {
   "display_name": "Python 3.10.0 64-bit ('3.10.0': pyenv)",
   "language": "python",
   "name": "python3"
  },
  "language_info": {
   "codemirror_mode": {
    "name": "ipython",
    "version": 3
   },
   "file_extension": ".py",
   "mimetype": "text/x-python",
   "name": "python",
   "nbconvert_exporter": "python",
   "pygments_lexer": "ipython3",
   "version": "3.10.0"
  },
  "orig_nbformat": 4
 },
 "nbformat": 4,
 "nbformat_minor": 2
}
