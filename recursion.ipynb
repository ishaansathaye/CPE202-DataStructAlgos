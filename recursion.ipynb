{
 "cells": [
  {
   "cell_type": "markdown",
   "metadata": {},
   "source": [
    "# Recursion"
   ]
  },
  {
   "cell_type": "markdown",
   "metadata": {},
   "source": [
    "---\n",
    "## Theory\n",
    "- What is recursion or a recursive function?\n",
    "    - A function that makes a call to itself"
   ]
  },
  {
   "cell_type": "markdown",
   "metadata": {},
   "source": [
    "- Two Ways to repeat an action\n",
    "    - Iteration (loop)\n",
    "        - Anything you can do recursively you can do with a loop\n",
    "    - Recursion\n",
    "        - **Anything that you can do with a loop can also be done with recursion**\n",
    "        - *Where to use Recursion*\n",
    "            - **Navigating Tree Structures**\n",
    "                - Going through a file directory\n",
    "- Some problems are easier to solve with recursion that iterations"
   ]
  },
  {
   "cell_type": "markdown",
   "metadata": {},
   "source": [
    "### Recursion Needs\n",
    "1) **Base case/cases**\n",
    "    - *Simple cases where we know the answer*\n",
    "2) **Recursive step**\n",
    "    - *\"Move\" closer to the base case*"
   ]
  },
  {
   "cell_type": "markdown",
   "metadata": {},
   "source": [
    "### How Recursive Calls Work\n",
    "- When you make a function call, machine sets up a tiny piece of memory needed to keep track of that function call\n",
    "    - That tiny piece of memory keeps track of parameter values, if the function has any local variables...\n",
    "    - Each one of these are called **activation records** (formal term) or **stack frames**"
   ]
  },
  {
   "cell_type": "markdown",
   "metadata": {},
   "source": [
    "### Performance of Recursion\n",
    "- Memory\n",
    "    - When you make a function call -> tiny piece of memory is stored in a **runtime stack**\n",
    "    - **Stack Overflow** -> **ran out of room on the runtime stack because the recursion went too long**\n",
    "        - For the add() function inputting a large number would result in running out of memory space on the runtime stack\n",
    "    - *Doing anything recursively takes up more memory than if you do it iteratively*\n",
    "- Time\n",
    "    - Runs slower\n",
    "- So why use recursion if slower and uses more memory:\n",
    "    - Convenient, solutions are elegant, and much easier to write recursively than iteratively"
   ]
  },
  {
   "cell_type": "markdown",
   "metadata": {},
   "source": [
    "---\n",
    "## Code Examples"
   ]
  },
  {
   "cell_type": "markdown",
   "metadata": {},
   "source": [
    "Compute the sum of integers 0....n:\n",
    "- sum(10) -> 1+2+3....10"
   ]
  },
  {
   "cell_type": "code",
   "execution_count": 3,
   "metadata": {},
   "outputs": [
    {
     "name": "stdout",
     "output_type": "stream",
     "text": [
      "55\n"
     ]
    }
   ],
   "source": [
    "# Iterative Approach:\n",
    "def add(n):\n",
    "    return sum([i for i in range(1, n+1)])\n",
    "\n",
    "print(add(10))"
   ]
  },
  {
   "cell_type": "markdown",
   "metadata": {},
   "source": [
    "Recursive Step: sum(n) -> **n + sum(n-1)**\n",
    "- sum(10) -> 10 + sum(9)\n",
    "    - 9 + sum(8)\n",
    "        - 8 + sum(7)"
   ]
  },
  {
   "cell_type": "markdown",
   "metadata": {},
   "source": [
    "Work of summing is done when coming out of the recursion calls: "
   ]
  },
  {
   "cell_type": "code",
   "execution_count": 16,
   "metadata": {},
   "outputs": [
    {
     "name": "stdout",
     "output_type": "stream",
     "text": [
      "55\n",
      "0\n"
     ]
    }
   ],
   "source": [
    "#Recursive Approach 1:\n",
    "def add(n):\n",
    "    if n <= 0: #need to also account for negative values\n",
    "        return 0\n",
    "    return n + add(n-1)\n",
    "\n",
    "print(add(10))\n",
    "print(add(-1))\n"
   ]
  },
  {
   "cell_type": "markdown",
   "metadata": {},
   "source": [
    "Work of summing is done when going into the recursion calls:\n",
    "- if reached the base case we already know the answer"
   ]
  },
  {
   "cell_type": "code",
   "execution_count": null,
   "metadata": {},
   "outputs": [],
   "source": [
    "def add(n):\n",
    "    pass"
   ]
  }
 ],
 "metadata": {
  "interpreter": {
   "hash": "b30b16c83ff9e1edf05d1389201b91a87d2eda582773d1d418f36c288e735fdc"
  },
  "kernelspec": {
   "display_name": "Python 3.10.0 64-bit ('3.10.0': pyenv)",
   "language": "python",
   "name": "python3"
  },
  "language_info": {
   "codemirror_mode": {
    "name": "ipython",
    "version": 3
   },
   "file_extension": ".py",
   "mimetype": "text/x-python",
   "name": "python",
   "nbconvert_exporter": "python",
   "pygments_lexer": "ipython3",
   "version": "3.10.0"
  },
  "orig_nbformat": 4
 },
 "nbformat": 4,
 "nbformat_minor": 2
}
